{
  "nbformat": 4,
  "nbformat_minor": 0,
  "metadata": {
    "colab": {
      "name": "data augmentation.ipynb",
      "provenance": []
    },
    "kernelspec": {
      "name": "python3",
      "display_name": "Python 3"
    },
    "language_info": {
      "name": "python"
    }
  },
  "cells": [
    {
      "cell_type": "code",
      "execution_count": null,
      "metadata": {
        "id": "uf9KFQ7PZC-V"
      },
      "outputs": [],
      "source": [
        "import os\n",
        "import numpy as np\n",
        "import cv2\n",
        "import matplotlib.pyplot as plt\n",
        "from matplotlib.pyplot import figure\n",
        "from google.colab.patches import cv2_imshow\n",
        "import pickle\n",
        "import random\n",
        "from sklearn.model_selection import train_test_split\n",
        "from sklearn.svm import SVC\n",
        "from sklearn.metrics import confusion_matrix, classification_report\n",
        "import seaborn as sns\n",
        "import math\n",
        "from numpy import array\n",
        "from glob import glob\n",
        "from numpy import asarray\n",
        "from PIL import Image\n",
        "from google.colab import drive "
      ]
    },
    {
      "cell_type": "code",
      "source": [
        "# Connect to Google Drive\n",
        "from google.colab import drive \n",
        "drive.mount('/content/gdrive/', force_remount=True)\n",
        "\n",
        "# Check if path is valid\n",
        "input_path = '/content/gdrive/My Drive/DATA 245 Group Collaboration/Group Project/Datasets/Dataset Final/'\n",
        "if os.path.exists(input_path):\n",
        "  print('Google Drive path to dataset is valid.')"
      ],
      "metadata": {
        "id": "m0uy4w-UZGS-"
      },
      "execution_count": null,
      "outputs": []
    },
    {
      "cell_type": "code",
      "source": [
        "path = os.path.join(input_path, 'good')\n",
        "\n",
        "path_list=[]\n",
        "for i in range(len(path)):\n",
        "  pl=os.path.join(path, os.listdir(path)[i])\n",
        "  path_list.append(pl)\n",
        "\n",
        "topath='/content/gdrive/My Drive/Dataset Final/good_augmentation/'\n",
        "#folder='good_augmentation'"
      ],
      "metadata": {
        "id": "lMNqxhc3ZGWF"
      },
      "execution_count": null,
      "outputs": []
    },
    {
      "cell_type": "code",
      "source": [
        "c=0\n",
        "for i in range(len(path_list)):\n",
        "  img=Image.open(path_list[i])\n",
        "\n",
        "  img.save(topath+str(c)+\"_original\"+'.tiff') \n",
        "\n",
        "  img_90=img.transpose(Image.FLIP_LEFT_RIGHT) #Transpose image (flip or rotate in 90 degree steps)\n",
        "  img_90.save(topath+str(c)+\"_rot_90\"+'.tiff')\n",
        "\n",
        "  img_180=img.rotate(180, Image.NEAREST, expand=1)\n",
        "  img_180.save(topath+str(c)+\"_rot_180\"+'.tiff')\n",
        "\n",
        "  img_270=img.rotate(270, Image.NEAREST, expand=1)\n",
        "  img_270.save(topath+str(c)+\"_rot_270\"+'.tiff')\n",
        "\n",
        "  c+=1"
      ],
      "metadata": {
        "id": "yUb2cRDmZGZM"
      },
      "execution_count": null,
      "outputs": []
    },
    {
      "cell_type": "code",
      "source": [
        "path = os.path.join(input_path, 'good_augmentation')\n",
        "path"
      ],
      "metadata": {
        "id": "B6oSFQ9LZGcE"
      },
      "execution_count": null,
      "outputs": []
    },
    {
      "cell_type": "code",
      "source": [
        "path = os.path.join(input_path, 'good_augmentation')\n",
        "path_list=[]\n",
        "for i in range(len(path)):\n",
        "  pl=os.path.join(path, os.listdir(path)[i])\n",
        "  path_list.append(pl)"
      ],
      "metadata": {
        "id": "sAt2_n5oZGf-"
      },
      "execution_count": null,
      "outputs": []
    },
    {
      "cell_type": "code",
      "source": [
        "c=0\n",
        "for i in range(len(path_list)):\n",
        "\n",
        "  #img=Image.open(path_list[i])\n",
        "  img=cv2.imread(path_list[i],cv2.IMREAD_GRAYSCALE)\n",
        "  img = img.astype(np.uint8)\n",
        "  img=np.reshape(img,(30,30))\n",
        "  img = Image.fromarray(img)\n",
        "  #img.save(topath+str(c)+\"_original\"+'.tiff') \n",
        "\n",
        "  img = list(img.getdata())#flatten\n",
        "  img=asarray(img) \n",
        "\n",
        "  gauss=np.random.normal(0,1,900)*1\n",
        "\n",
        "  img_gauss=gauss+img\n",
        "  img_gauss=np.reshape(img_gauss,(30,30))\n",
        "  img_gauss = img_gauss.astype(np.uint8)\n",
        "  img_gauss = Image.fromarray(img_gauss)\n",
        "\n",
        "  img_gauss.save(topath+str(c)+\"_Gaussian\"+'.tiff') \n",
        "\n",
        "  poisson=np.random.poisson(img.size)*0.001\n",
        "  img_poisson=img+poisson\n",
        "  img_poisson=np.reshape(img_poisson,(30,30))\n",
        "  img_poisson = img_poisson.astype(np.uint8)\n",
        "  img_poisson = Image.fromarray(img_poisson)\n",
        "  img_poisson.save(topath+str(c)+\"Poisson\"+'.tiff')\n",
        "\n",
        "  c+=1"
      ],
      "metadata": {
        "id": "2B5_kTQPZGi2"
      },
      "execution_count": null,
      "outputs": []
    },
    {
      "cell_type": "code",
      "source": [
        ""
      ],
      "metadata": {
        "id": "ypu6YAsXZGl-"
      },
      "execution_count": null,
      "outputs": []
    },
    {
      "cell_type": "code",
      "source": [
        "input_path = '/content/gdrive/My Drive/Dataset Final/'\n",
        "os.path.exists(input_path)"
      ],
      "metadata": {
        "id": "3ycICApaZQeR"
      },
      "execution_count": null,
      "outputs": []
    },
    {
      "cell_type": "code",
      "source": [
        "path = os.path.join(input_path, 'bad')\n",
        "\n",
        "path_list=[]\n",
        "for i in range(len(path)):\n",
        "  pl=os.path.join(path, os.listdir(path)[i])\n",
        "  path_list.append(pl)\n",
        "\n",
        "topath='/content/gdrive/My Drive/Dataset Final/bad_augmentation/'\n",
        "#folder='good_augmentation'"
      ],
      "metadata": {
        "id": "4I6Z8a_NZQhY"
      },
      "execution_count": null,
      "outputs": []
    },
    {
      "cell_type": "code",
      "source": [
        "c=0\n",
        "for i in range(len(path_list)):\n",
        "  img=Image.open(path_list[i])\n",
        "\n",
        "  img.save(topath+str(c)+\"_original\"+'.tiff') \n",
        "\n",
        "  img_90=img.transpose(Image.FLIP_LEFT_RIGHT) #Transpose image (flip or rotate in 90 degree steps)\n",
        "  img_90.save(topath+str(c)+\"_rot_90\"+'.tiff')\n",
        "\n",
        "  img_180=img.rotate(180, Image.NEAREST, expand=1)\n",
        "  img_180.save(topath+str(c)+\"_rot_180\"+'.tiff')\n",
        "\n",
        "  img_270=img.rotate(270, Image.NEAREST, expand=1)\n",
        "  img_270.save(topath+str(c)+\"_rot_270\"+'.tiff')\n",
        "\n",
        "  c+=1"
      ],
      "metadata": {
        "id": "Ol_L5wGGZQkx"
      },
      "execution_count": null,
      "outputs": []
    },
    {
      "cell_type": "code",
      "source": [
        "path = os.path.join(input_path, 'bad_augmentation')\n",
        "path_list=[]\n",
        "for i in range(len(path)):\n",
        "  pl=os.path.join(path, os.listdir(path)[i])\n",
        "  path_list.append(pl)"
      ],
      "metadata": {
        "id": "eLcEGyV9ZQn7"
      },
      "execution_count": null,
      "outputs": []
    },
    {
      "cell_type": "code",
      "source": [
        "c=0\n",
        "for i in range(len(path_list)):\n",
        "\n",
        "  #img=Image.open(path_list[i])\n",
        "  img=cv2.imread(path_list[i],cv2.IMREAD_GRAYSCALE)\n",
        "  img = img.astype(np.uint8)\n",
        "  img=np.reshape(img,(30,30))\n",
        "  img = Image.fromarray(img)\n",
        "  #img.save(topath+str(c)+\"_original\"+'.tiff') \n",
        "\n",
        "  img = list(img.getdata())#flatten\n",
        "  img=asarray(img) \n",
        "\n",
        "  gauss=np.random.normal(0,1,900)*1\n",
        "\n",
        "  img_gauss=gauss+img\n",
        "  img_gauss=np.reshape(img_gauss,(30,30))\n",
        "  img_gauss = img_gauss.astype(np.uint8)\n",
        "  img_gauss = Image.fromarray(img_gauss)\n",
        "\n",
        "  img_gauss.save(topath+str(c)+\"_Gaussian\"+'.tiff') \n",
        "\n",
        "  poisson=np.random.poisson(img.size)*0.001\n",
        "  img_poisson=img+poisson\n",
        "  img_poisson=np.reshape(img_poisson,(30,30))\n",
        "  img_poisson = img_poisson.astype(np.uint8)\n",
        "  img_poisson = Image.fromarray(img_poisson)\n",
        "  img_poisson.save(topath+str(c)+\"Poisson\"+'.tiff')\n",
        "\n",
        "  c+=1"
      ],
      "metadata": {
        "id": "_YsYlnKDZGoE"
      },
      "execution_count": null,
      "outputs": []
    },
    {
      "cell_type": "code",
      "source": [
        ""
      ],
      "metadata": {
        "id": "l3A_caxzZZ4E"
      },
      "execution_count": null,
      "outputs": []
    },
    {
      "cell_type": "code",
      "source": [
        ""
      ],
      "metadata": {
        "id": "EjO7ImyKZZ7-"
      },
      "execution_count": null,
      "outputs": []
    },
    {
      "cell_type": "code",
      "source": [
        ""
      ],
      "metadata": {
        "id": "J9lLRTUzZZ_W"
      },
      "execution_count": null,
      "outputs": []
    },
    {
      "cell_type": "code",
      "source": [
        ""
      ],
      "metadata": {
        "id": "iIxamTrTZaEE"
      },
      "execution_count": null,
      "outputs": []
    }
  ]
}