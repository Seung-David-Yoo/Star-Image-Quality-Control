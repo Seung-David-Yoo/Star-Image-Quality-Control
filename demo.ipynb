{
  "nbformat": 4,
  "nbformat_minor": 0,
  "metadata": {
    "colab": {
      "name": "demo.ipynb",
      "provenance": [],
      "collapsed_sections": []
    },
    "kernelspec": {
      "name": "python3",
      "display_name": "Python 3"
    },
    "language_info": {
      "name": "python"
    }
  },
  "cells": [
    {
      "cell_type": "code",
      "execution_count": null,
      "metadata": {
        "id": "ZMfEbsG1SPfN"
      },
      "outputs": [],
      "source": [
        "import pickle\n",
        "import os"
      ]
    },
    {
      "cell_type": "code",
      "source": [
        "import matplotlib.pyplot as plt\n",
        "import cv2\n",
        "import numpy as np\n",
        "import sklearn\n",
        "from sklearn.neighbors import KNeighborsClassifier"
      ],
      "metadata": {
        "id": "JHPuDFKkS3r7"
      },
      "execution_count": null,
      "outputs": []
    },
    {
      "cell_type": "code",
      "source": [
        "# Connect to Google Drive\n",
        "from google.colab import drive \n",
        "drive.mount('/content/gdrive/', force_remount=True)\n"
      ],
      "metadata": {
        "colab": {
          "base_uri": "https://localhost:8080/"
        },
        "id": "GiCQIQSKS8BS",
        "outputId": "b16829e8-0eb4-48a1-b1b1-ac52783f228b"
      },
      "execution_count": null,
      "outputs": [
        {
          "output_type": "stream",
          "name": "stdout",
          "text": [
            "Mounted at /content/gdrive/\n"
          ]
        }
      ]
    },
    {
      "cell_type": "code",
      "source": [
        "import cv2\n",
        "import math"
      ],
      "metadata": {
        "id": "NHI7NLERUeDm"
      },
      "execution_count": null,
      "outputs": []
    },
    {
      "cell_type": "code",
      "source": [
        "# Check if path is valid\n",
        "input_path = '/content/gdrive/My Drive/DATA 245 Group Collaboration/Group Project/demo/demo_images/'\n",
        "#input_path = '/content/gdrive/My Drive/demo/demo_images/'\n",
        "if os.path.exists(input_path):\n",
        "  print('Google Drive path to dataset is valid.')"
      ],
      "metadata": {
        "colab": {
          "base_uri": "https://localhost:8080/"
        },
        "id": "3CUIHIrgS8Ep",
        "outputId": "3d7c9e83-cfcc-4b40-c23d-2ae46a62e603"
      },
      "execution_count": null,
      "outputs": [
        {
          "output_type": "stream",
          "name": "stdout",
          "text": [
            "Google Drive path to dataset is valid.\n"
          ]
        }
      ]
    },
    {
      "cell_type": "code",
      "source": [
        "data=[]\n",
        "name=[]\n",
        "path='/content/gdrive/My Drive/DATA 245 Group Collaboration/Group Project/demo/demo_images/'\n",
        "#path='/content/gdrive/My Drive/demo/demo_images/'\n",
        "for imgfilename in os.listdir(path):\n",
        "    if imgfilename != '.DS_Store':\n",
        "        imgpath = os.path.join(path, imgfilename)\n",
        "        star_img1 = cv2.imread(imgpath, 0)\n",
        "        star_img = cv2.resize(star_img1, (300,300))\n",
        "        star_img_denoised = cv2.fastNlMeansDenoising(star_img, h=11, templateWindowSize=7, searchWindowSize=21)\n",
        "        T, thresh = cv2.threshold(star_img_denoised, 135, 255, cv2.THRESH_BINARY)\n",
        "\n",
        "        contours, hierarchy = cv2.findContours(thresh, 1, 2)\n",
        "        cnt = contours[0]\n",
        "\n",
        "        # Obtain moments & hu moments\n",
        "        M = cv2.moments(cnt)\n",
        "        huMoments = cv2.HuMoments(M)\n",
        "\n",
        "        # Transform hu moments\n",
        "        for i in range(0,7):\n",
        "            huMoments[i] = -1* math.copysign(1.0, huMoments[i]) * math.log10(abs(huMoments[i]))\n",
        "\n",
        "        # Store 7 hu moments as features and label into dataset\n",
        "        data.append([[i[0] for i in huMoments]])  \n",
        "        name.append(imgfilename)"
      ],
      "metadata": {
        "id": "iEEmEeqKS8Nx"
      },
      "execution_count": null,
      "outputs": []
    },
    {
      "cell_type": "code",
      "source": [
        "#with open('/content/gdrive/My Drive/demo/RF_Model.pkl', 'rb') as model:\n",
        "with open('/content/gdrive/My Drive/DATA 245 Group Collaboration/Group Project/demo/RF_Model.pkl', 'rb') as model:\n",
        "    rf_model=pickle.load(model)"
      ],
      "metadata": {
        "id": "dNDOsPfRTtUD"
      },
      "execution_count": null,
      "outputs": []
    },
    {
      "cell_type": "code",
      "source": [
        "t=0\n",
        "for i in range(len(data)):\n",
        "  if (name[i].startswith('bad')) and  rf_model.predict(data[i])==[1]:\n",
        "    t+=1\n",
        "  if name[i].startswith('good') and  rf_model.predict(data[i])==[0]:\n",
        "    t+=1\n",
        "  print(name[i],\":\",rf_model.predict(data[i]))\n",
        "print((t/20)*100 ,'%')"
      ],
      "metadata": {
        "colab": {
          "base_uri": "https://localhost:8080/"
        },
        "id": "uoiJiR9GTtbT",
        "outputId": "1e3bb660-1485-4c29-a784-7255b5aad240"
      },
      "execution_count": null,
      "outputs": [
        {
          "output_type": "stream",
          "name": "stdout",
          "text": [
            "bad3.tiff : [1]\n",
            "bad2.tiff : [1]\n",
            "bad1.tiff : [1]\n",
            "bad6.tiff : [0]\n",
            "bad4.tiff : [0]\n",
            "bad8.tiff : [1]\n",
            "bad7.tiff : [1]\n",
            "bad9.tiff : [1]\n",
            "bad10.tiff : [1]\n",
            "good4.tiff : [0]\n",
            "good5.tiff : [0]\n",
            "good6.tiff : [0]\n",
            "good7.tiff : [0]\n",
            "good8.tiff : [1]\n",
            "good9.tiff : [0]\n",
            "good10.tiff : [0]\n",
            "good1.tiff : [0]\n",
            "good2.tiff : [0]\n",
            "good3.tiff : [0]\n",
            "bad5.tiff : [0]\n",
            "80.0 %\n"
          ]
        }
      ]
    },
    {
      "cell_type": "code",
      "source": [
        "#with open('/content/gdrive/My Drive/demo/RF_Model.pkl', 'rb') as model:\n",
        "#with open('/content/gdrive/My Drive/DATA 245 Group Collaboration/Group Project/demo/KNN_Model.pkl', 'rb') as model:\n",
        " #   KNN_model=pickle.load(model)"
      ],
      "metadata": {
        "id": "ZduCNLqlTteb"
      },
      "execution_count": null,
      "outputs": []
    },
    {
      "cell_type": "code",
      "source": [
        "#for i in range(len(data)):\n",
        "#  print(KNN_model.predict(data[i]))"
      ],
      "metadata": {
        "id": "J6afLe9fTthk"
      },
      "execution_count": null,
      "outputs": []
    },
    {
      "cell_type": "code",
      "source": [
        "#with open('/content/gdrive/My Drive/demo/RF_Model.pkl', 'rb') as model:\n",
        "with open('/content/gdrive/My Drive/DATA 245 Group Collaboration/Group Project/demo/SVC_Model.pkl', 'rb') as model:\n",
        "    SVC_model=pickle.load(model)"
      ],
      "metadata": {
        "id": "xXHQ0SZWTtlN"
      },
      "execution_count": null,
      "outputs": []
    },
    {
      "cell_type": "code",
      "source": [
        "t=0\n",
        "for i in range(len(data)):\n",
        "  if (name[i].startswith('bad')) and  SVC_model.predict(data[i])==[1]:\n",
        "    t+=1\n",
        "  if name[i].startswith('good') and  SVC_model.predict(data[i])==[0]:\n",
        "    t+=1\n",
        "  print(i,name[i],\": predicted value is\",SVC_model.predict(data[i]))\n",
        "print('Accuracy of SVM : ',(t/20)*100 ,'%')"
      ],
      "metadata": {
        "colab": {
          "base_uri": "https://localhost:8080/"
        },
        "id": "-tsT_hD_s8SW",
        "outputId": "d1fad64b-17bd-472f-93f1-3bab8b1ab6ce"
      },
      "execution_count": null,
      "outputs": [
        {
          "output_type": "stream",
          "name": "stdout",
          "text": [
            "0 bad3.tiff : predicted value is [1]\n",
            "1 bad2.tiff : predicted value is [1]\n",
            "2 bad1.tiff : predicted value is [1]\n",
            "3 bad6.tiff : predicted value is [0]\n",
            "4 bad4.tiff : predicted value is [0]\n",
            "5 bad8.tiff : predicted value is [1]\n",
            "6 bad7.tiff : predicted value is [1]\n",
            "7 bad9.tiff : predicted value is [0]\n",
            "8 bad10.tiff : predicted value is [1]\n",
            "9 good4.tiff : predicted value is [0]\n",
            "10 good5.tiff : predicted value is [0]\n",
            "11 good6.tiff : predicted value is [0]\n",
            "12 good7.tiff : predicted value is [0]\n",
            "13 good8.tiff : predicted value is [1]\n",
            "14 good9.tiff : predicted value is [1]\n",
            "15 good10.tiff : predicted value is [0]\n",
            "16 good1.tiff : predicted value is [1]\n",
            "17 good2.tiff : predicted value is [0]\n",
            "18 good3.tiff : predicted value is [0]\n",
            "19 bad5.tiff : predicted value is [1]\n",
            "Accuracy of SVM :  70.0 %\n"
          ]
        }
      ]
    },
    {
      "cell_type": "code",
      "source": [
        "for i in range(len(data)):\n",
        "  print(SVC_model.predict(data[i]))"
      ],
      "metadata": {
        "colab": {
          "base_uri": "https://localhost:8080/"
        },
        "id": "Wjj2uIzwS8Q5",
        "outputId": "5bdda3b3-1108-4b80-f722-e36733d1a7fa"
      },
      "execution_count": null,
      "outputs": [
        {
          "output_type": "stream",
          "name": "stdout",
          "text": [
            "[1]\n",
            "[1]\n",
            "[1]\n",
            "[0]\n",
            "[0]\n",
            "[1]\n",
            "[1]\n",
            "[0]\n",
            "[1]\n",
            "[0]\n",
            "[0]\n",
            "[0]\n",
            "[0]\n",
            "[1]\n",
            "[1]\n",
            "[0]\n",
            "[1]\n",
            "[0]\n",
            "[0]\n",
            "[1]\n"
          ]
        }
      ]
    }
  ]
}